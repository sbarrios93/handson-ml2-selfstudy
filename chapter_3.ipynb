{
 "cells": [
  {
   "cell_type": "markdown",
   "metadata": {},
   "source": [
    "# Chapter 3: Classification"
   ]
  },
  {
   "cell_type": "markdown",
   "metadata": {},
   "source": [
    "## Setup"
   ]
  },
  {
   "cell_type": "code",
   "execution_count": 22,
   "metadata": {
    "collapsed": false,
    "execution": {
     "iopub.execute_input": "2021-04-04T16:30:41.951370Z",
     "iopub.status.busy": "2021-04-04T16:30:41.950530Z",
     "iopub.status.idle": "2021-04-04T16:30:42.165871Z",
     "shell.execute_reply": "2021-04-04T16:30:42.165457Z",
     "shell.execute_reply.started": "2021-04-04T16:30:41.951298Z"
    },
    "jupyter": {
     "outputs_hidden": false
    },
    "pycharm": {
     "name": "#%%\n"
    }
   },
   "outputs": [],
   "source": [
    "# Python ≥3.5 is required\n",
    "import sys\n",
    "\n",
    "assert sys.version_info >= (3, 5)\n",
    "\n",
    "# Scikit-Learn ≥0.20 is required\n",
    "import sklearn\n",
    "\n",
    "assert sklearn.__version__ >= \"0.20\"\n",
    "\n",
    "# Common imports\n",
    "import numpy as np\n",
    "import os\n",
    "\n",
    "# To plot pretty figures\n",
    "%matplotlib inline\n",
    "import matplotlib as mpl\n",
    "import matplotlib.pyplot as plt\n",
    "\n",
    "mpl.rc(\"axes\", labelsize=14)\n",
    "mpl.rc(\"xtick\", labelsize=12)\n",
    "mpl.rc(\"ytick\", labelsize=12)\n",
    "\n",
    "\n",
    "# Where to save the figures\n",
    "PROJECT_ROOT_DIR = \".\"\n",
    "CHAPTER_ID = \"end_to_end_project\"\n",
    "IMAGES_PATH = os.path.join(PROJECT_ROOT_DIR, \"images\", CHAPTER_ID)\n",
    "MODELS_PATH = os.path.join(PROJECT_ROOT_DIR, \"models\", CHAPTER_ID)\n",
    "os.makedirs(IMAGES_PATH, exist_ok=True)\n",
    "os.makedirs(MODELS_PATH, exist_ok=True)\n",
    "\n",
    "\n",
    "def save_fig(fig_id, tight_layout=True, fig_extension=\"png\", resolution=300):\n",
    "    path = os.path.join(IMAGES_PATH, fig_id + \".\" + fig_extension)\n",
    "    print(\"Saving figure\", fig_id)\n",
    "    if tight_layout:\n",
    "        plt.tight_layout()\n",
    "    plt.savefig(path, format=fig_extension, dpi=resolution)"
   ]
  },
  {
   "cell_type": "markdown",
   "metadata": {},
   "source": [
    "## Acquire and explore the data"
   ]
  },
  {
   "cell_type": "markdown",
   "metadata": {},
   "source": [
    "We will be using the MNIST dataset, to classify digit images.\n",
    "\n",
    "Let's fetch the MNIST dataset first. By default it will be stored in `$HOME/scikit_learn_data`"
   ]
  },
  {
   "cell_type": "code",
   "execution_count": 23,
   "metadata": {
    "execution": {
     "iopub.execute_input": "2021-04-04T16:30:42.167381Z",
     "iopub.status.busy": "2021-04-04T16:30:42.167176Z",
     "iopub.status.idle": "2021-04-04T16:30:58.414091Z",
     "shell.execute_reply": "2021-04-04T16:30:58.413769Z",
     "shell.execute_reply.started": "2021-04-04T16:30:42.167365Z"
    }
   },
   "outputs": [
    {
     "data": {
      "text/plain": [
       "dict_keys(['data', 'target', 'frame', 'categories', 'feature_names', 'target_names', 'DESCR', 'details', 'url'])"
      ]
     },
     "execution_count": 23,
     "metadata": {},
     "output_type": "execute_result"
    }
   ],
   "source": [
    "from sklearn.datasets import fetch_openml\n",
    "\n",
    "mnist = fetch_openml(\"mnist_784\", version=1, as_frame=False)\n",
    "mnist.keys()"
   ]
  },
  {
   "cell_type": "markdown",
   "metadata": {},
   "source": [
    "Datasets loaded by Scikit-Learn generally have a similar dictionary structure.\n",
    "- `DESCR` describe the dataset\n",
    "- `data` contains an array with one row per instance and one column per feature\n",
    "- `target` key contains array with the labels"
   ]
  },
  {
   "cell_type": "code",
   "execution_count": 24,
   "metadata": {
    "execution": {
     "iopub.execute_input": "2021-04-04T16:30:58.415244Z",
     "iopub.status.busy": "2021-04-04T16:30:58.415142Z",
     "iopub.status.idle": "2021-04-04T16:30:58.434985Z",
     "shell.execute_reply": "2021-04-04T16:30:58.434693Z",
     "shell.execute_reply.started": "2021-04-04T16:30:58.415231Z"
    }
   },
   "outputs": [
    {
     "data": {
      "text/html": [
       "<div>\n",
       "<style scoped>\n",
       "    .dataframe tbody tr th:only-of-type {\n",
       "        vertical-align: middle;\n",
       "    }\n",
       "\n",
       "    .dataframe tbody tr th {\n",
       "        vertical-align: top;\n",
       "    }\n",
       "\n",
       "    .dataframe thead th {\n",
       "        text-align: right;\n",
       "    }\n",
       "</style>\n",
       "<table border=\"1\" class=\"dataframe\">\n",
       "  <thead>\n",
       "    <tr style=\"text-align: right;\">\n",
       "      <th></th>\n",
       "      <th>0</th>\n",
       "      <th>1</th>\n",
       "      <th>2</th>\n",
       "      <th>3</th>\n",
       "      <th>4</th>\n",
       "      <th>5</th>\n",
       "      <th>6</th>\n",
       "      <th>7</th>\n",
       "      <th>8</th>\n",
       "      <th>9</th>\n",
       "      <th>...</th>\n",
       "      <th>774</th>\n",
       "      <th>775</th>\n",
       "      <th>776</th>\n",
       "      <th>777</th>\n",
       "      <th>778</th>\n",
       "      <th>779</th>\n",
       "      <th>780</th>\n",
       "      <th>781</th>\n",
       "      <th>782</th>\n",
       "      <th>783</th>\n",
       "    </tr>\n",
       "  </thead>\n",
       "  <tbody>\n",
       "    <tr>\n",
       "      <th>0</th>\n",
       "      <td>0.0</td>\n",
       "      <td>0.0</td>\n",
       "      <td>0.0</td>\n",
       "      <td>0.0</td>\n",
       "      <td>0.0</td>\n",
       "      <td>0.0</td>\n",
       "      <td>0.0</td>\n",
       "      <td>0.0</td>\n",
       "      <td>0.0</td>\n",
       "      <td>0.0</td>\n",
       "      <td>...</td>\n",
       "      <td>0.0</td>\n",
       "      <td>0.0</td>\n",
       "      <td>0.0</td>\n",
       "      <td>0.0</td>\n",
       "      <td>0.0</td>\n",
       "      <td>0.0</td>\n",
       "      <td>0.0</td>\n",
       "      <td>0.0</td>\n",
       "      <td>0.0</td>\n",
       "      <td>0.0</td>\n",
       "    </tr>\n",
       "    <tr>\n",
       "      <th>1</th>\n",
       "      <td>0.0</td>\n",
       "      <td>0.0</td>\n",
       "      <td>0.0</td>\n",
       "      <td>0.0</td>\n",
       "      <td>0.0</td>\n",
       "      <td>0.0</td>\n",
       "      <td>0.0</td>\n",
       "      <td>0.0</td>\n",
       "      <td>0.0</td>\n",
       "      <td>0.0</td>\n",
       "      <td>...</td>\n",
       "      <td>0.0</td>\n",
       "      <td>0.0</td>\n",
       "      <td>0.0</td>\n",
       "      <td>0.0</td>\n",
       "      <td>0.0</td>\n",
       "      <td>0.0</td>\n",
       "      <td>0.0</td>\n",
       "      <td>0.0</td>\n",
       "      <td>0.0</td>\n",
       "      <td>0.0</td>\n",
       "    </tr>\n",
       "    <tr>\n",
       "      <th>2</th>\n",
       "      <td>0.0</td>\n",
       "      <td>0.0</td>\n",
       "      <td>0.0</td>\n",
       "      <td>0.0</td>\n",
       "      <td>0.0</td>\n",
       "      <td>0.0</td>\n",
       "      <td>0.0</td>\n",
       "      <td>0.0</td>\n",
       "      <td>0.0</td>\n",
       "      <td>0.0</td>\n",
       "      <td>...</td>\n",
       "      <td>0.0</td>\n",
       "      <td>0.0</td>\n",
       "      <td>0.0</td>\n",
       "      <td>0.0</td>\n",
       "      <td>0.0</td>\n",
       "      <td>0.0</td>\n",
       "      <td>0.0</td>\n",
       "      <td>0.0</td>\n",
       "      <td>0.0</td>\n",
       "      <td>0.0</td>\n",
       "    </tr>\n",
       "    <tr>\n",
       "      <th>3</th>\n",
       "      <td>0.0</td>\n",
       "      <td>0.0</td>\n",
       "      <td>0.0</td>\n",
       "      <td>0.0</td>\n",
       "      <td>0.0</td>\n",
       "      <td>0.0</td>\n",
       "      <td>0.0</td>\n",
       "      <td>0.0</td>\n",
       "      <td>0.0</td>\n",
       "      <td>0.0</td>\n",
       "      <td>...</td>\n",
       "      <td>0.0</td>\n",
       "      <td>0.0</td>\n",
       "      <td>0.0</td>\n",
       "      <td>0.0</td>\n",
       "      <td>0.0</td>\n",
       "      <td>0.0</td>\n",
       "      <td>0.0</td>\n",
       "      <td>0.0</td>\n",
       "      <td>0.0</td>\n",
       "      <td>0.0</td>\n",
       "    </tr>\n",
       "    <tr>\n",
       "      <th>4</th>\n",
       "      <td>0.0</td>\n",
       "      <td>0.0</td>\n",
       "      <td>0.0</td>\n",
       "      <td>0.0</td>\n",
       "      <td>0.0</td>\n",
       "      <td>0.0</td>\n",
       "      <td>0.0</td>\n",
       "      <td>0.0</td>\n",
       "      <td>0.0</td>\n",
       "      <td>0.0</td>\n",
       "      <td>...</td>\n",
       "      <td>0.0</td>\n",
       "      <td>0.0</td>\n",
       "      <td>0.0</td>\n",
       "      <td>0.0</td>\n",
       "      <td>0.0</td>\n",
       "      <td>0.0</td>\n",
       "      <td>0.0</td>\n",
       "      <td>0.0</td>\n",
       "      <td>0.0</td>\n",
       "      <td>0.0</td>\n",
       "    </tr>\n",
       "  </tbody>\n",
       "</table>\n",
       "<p>5 rows × 784 columns</p>\n",
       "</div>"
      ],
      "text/plain": [
       "   0    1    2    3    4    5    6    7    8    9    ...  774  775  776  777  \\\n",
       "0  0.0  0.0  0.0  0.0  0.0  0.0  0.0  0.0  0.0  0.0  ...  0.0  0.0  0.0  0.0   \n",
       "1  0.0  0.0  0.0  0.0  0.0  0.0  0.0  0.0  0.0  0.0  ...  0.0  0.0  0.0  0.0   \n",
       "2  0.0  0.0  0.0  0.0  0.0  0.0  0.0  0.0  0.0  0.0  ...  0.0  0.0  0.0  0.0   \n",
       "3  0.0  0.0  0.0  0.0  0.0  0.0  0.0  0.0  0.0  0.0  ...  0.0  0.0  0.0  0.0   \n",
       "4  0.0  0.0  0.0  0.0  0.0  0.0  0.0  0.0  0.0  0.0  ...  0.0  0.0  0.0  0.0   \n",
       "\n",
       "   778  779  780  781  782  783  \n",
       "0  0.0  0.0  0.0  0.0  0.0  0.0  \n",
       "1  0.0  0.0  0.0  0.0  0.0  0.0  \n",
       "2  0.0  0.0  0.0  0.0  0.0  0.0  \n",
       "3  0.0  0.0  0.0  0.0  0.0  0.0  \n",
       "4  0.0  0.0  0.0  0.0  0.0  0.0  \n",
       "\n",
       "[5 rows x 784 columns]"
      ]
     },
     "execution_count": 24,
     "metadata": {},
     "output_type": "execute_result"
    }
   ],
   "source": [
    "import pandas as pd\n",
    "\n",
    "pd.DataFrame(mnist[\"data\"]).head()"
   ]
  },
  {
   "cell_type": "markdown",
   "metadata": {},
   "source": [
    "Each row represents one instance, and each column represents one feature"
   ]
  },
  {
   "cell_type": "code",
   "execution_count": 25,
   "metadata": {
    "execution": {
     "iopub.execute_input": "2021-04-04T16:30:58.435947Z",
     "iopub.status.busy": "2021-04-04T16:30:58.435857Z",
     "iopub.status.idle": "2021-04-04T16:30:58.438170Z",
     "shell.execute_reply": "2021-04-04T16:30:58.437889Z",
     "shell.execute_reply.started": "2021-04-04T16:30:58.435934Z"
    }
   },
   "outputs": [
    {
     "name": "stdout",
     "output_type": "stream",
     "text": [
      "(70000, 784)\n",
      "(70000,)\n"
     ]
    }
   ],
   "source": [
    "X, y = mnist[\"data\"], mnist[\"target\"]\n",
    "print(X.shape, y.shape, sep=\"\\n\")"
   ]
  },
  {
   "cell_type": "markdown",
   "metadata": {},
   "source": [
    "Each image is 28 x 28 pixels, thus it contains 784 features, where each feature represents one pixel, from 0 to 255 (white tho black)"
   ]
  },
  {
   "cell_type": "code",
   "execution_count": 26,
   "metadata": {
    "execution": {
     "iopub.execute_input": "2021-04-04T16:30:58.438843Z",
     "iopub.status.busy": "2021-04-04T16:30:58.438742Z",
     "iopub.status.idle": "2021-04-04T16:30:58.494110Z",
     "shell.execute_reply": "2021-04-04T16:30:58.493762Z",
     "shell.execute_reply.started": "2021-04-04T16:30:58.438830Z"
    }
   },
   "outputs": [
    {
     "data": {
      "image/png": "[encoded data removed]",
      "text/plain": [
       "<Figure size 432x288 with 1 Axes>"
      ]
     },
     "metadata": {
      "needs_background": "light"
     },
     "output_type": "display_data"
    }
   ],
   "source": [
    "some_digit = X[0]\n",
    "\n",
    "# let's reshape the vector to a 28x28 array\n",
    "some_digit_image = some_digit.reshape(28, 28)\n",
    "\n",
    "plt.imshow(some_digit_image, cmap=\"binary\")\n",
    "plt.axis(\"off\")\n",
    "plt.show()"
   ]
  },
  {
   "cell_type": "code",
   "execution_count": 27,
   "metadata": {
    "execution": {
     "iopub.execute_input": "2021-04-04T16:30:58.494919Z",
     "iopub.status.busy": "2021-04-04T16:30:58.494800Z",
     "iopub.status.idle": "2021-04-04T16:30:58.497861Z",
     "shell.execute_reply": "2021-04-04T16:30:58.497382Z",
     "shell.execute_reply.started": "2021-04-04T16:30:58.494905Z"
    }
   },
   "outputs": [
    {
     "data": {
      "text/plain": [
       "'5'"
      ]
     },
     "execution_count": 27,
     "metadata": {},
     "output_type": "execute_result"
    }
   ],
   "source": [
    "y[0]"
   ]
  },
  {
   "cell_type": "markdown",
   "metadata": {},
   "source": [
    "The label is actually a `string` so we will need to cast `y` to an `integer`"
   ]
  },
  {
   "cell_type": "code",
   "execution_count": 28,
   "metadata": {
    "execution": {
     "iopub.execute_input": "2021-04-04T16:30:58.498660Z",
     "iopub.status.busy": "2021-04-04T16:30:58.498555Z",
     "iopub.status.idle": "2021-04-04T16:30:58.505822Z",
     "shell.execute_reply": "2021-04-04T16:30:58.505485Z",
     "shell.execute_reply.started": "2021-04-04T16:30:58.498646Z"
    }
   },
   "outputs": [
    {
     "data": {
      "text/plain": [
       "array([5, 0, 4, ..., 4, 5, 6], dtype=uint8)"
      ]
     },
     "execution_count": 28,
     "metadata": {},
     "output_type": "execute_result"
    }
   ],
   "source": [
    "y = y.astype(np.uint8)\n",
    "y"
   ]
  },
  {
   "cell_type": "markdown",
   "metadata": {},
   "source": [
    "## Set aside a test set"
   ]
  },
  {
   "cell_type": "markdown",
   "metadata": {},
   "source": [
    "The MNIST dataset is actually already split into a training set (the first 60,000 images) and a test set (10,000 images).\n",
    "\n",
    "The dataset is also already shuffled"
   ]
  },
  {
   "cell_type": "code",
   "execution_count": 29,
   "metadata": {
    "execution": {
     "iopub.execute_input": "2021-04-04T16:30:58.507730Z",
     "iopub.status.busy": "2021-04-04T16:30:58.507618Z",
     "iopub.status.idle": "2021-04-04T16:30:58.509879Z",
     "shell.execute_reply": "2021-04-04T16:30:58.509545Z",
     "shell.execute_reply.started": "2021-04-04T16:30:58.507718Z"
    }
   },
   "outputs": [],
   "source": [
    "X_train, X_test, y_train, y_test = X[:60000], X[60000:], y[:60000], y[60000:]"
   ]
  },
  {
   "cell_type": "markdown",
   "metadata": {},
   "source": [
    "## Training a binary classifier"
   ]
  },
  {
   "cell_type": "markdown",
   "metadata": {},
   "source": [
    "Let's start by creating a model that identifies only one digit. Whethere a digit is 5 or not 5. "
   ]
  },
  {
   "cell_type": "code",
   "execution_count": 30,
   "metadata": {
    "execution": {
     "iopub.execute_input": "2021-04-04T16:30:58.511294Z",
     "iopub.status.busy": "2021-04-04T16:30:58.511182Z",
     "iopub.status.idle": "2021-04-04T16:30:58.514692Z",
     "shell.execute_reply": "2021-04-04T16:30:58.514028Z",
     "shell.execute_reply.started": "2021-04-04T16:30:58.511281Z"
    }
   },
   "outputs": [],
   "source": [
    "y_train_5 = y_train == 5\n",
    "y_test_5 = y_test == 5"
   ]
  },
  {
   "cell_type": "markdown",
   "metadata": {},
   "source": [
    "We will start with the _Stochastic Gradient Descent_ classifier"
   ]
  },
  {
   "cell_type": "code",
   "execution_count": 31,
   "metadata": {
    "execution": {
     "iopub.execute_input": "2021-04-04T16:30:58.515587Z",
     "iopub.status.busy": "2021-04-04T16:30:58.515466Z",
     "iopub.status.idle": "2021-04-04T16:31:12.570473Z",
     "shell.execute_reply": "2021-04-04T16:31:12.570154Z",
     "shell.execute_reply.started": "2021-04-04T16:30:58.515573Z"
    }
   },
   "outputs": [
    {
     "data": {
      "text/plain": [
       "SGDClassifier(random_state=42)"
      ]
     },
     "execution_count": 31,
     "metadata": {},
     "output_type": "execute_result"
    }
   ],
   "source": [
    "from sklearn.linear_model import SGDClassifier\n",
    "\n",
    "sgd_clf = SGDClassifier(random_state=42)\n",
    "sgd_clf.fit(X_train, y_train_5)"
   ]
  },
  {
   "cell_type": "markdown",
   "metadata": {},
   "source": [
    "We set the random state to a value to get reproducible results"
   ]
  },
  {
   "cell_type": "code",
   "execution_count": 32,
   "metadata": {
    "execution": {
     "iopub.execute_input": "2021-04-04T16:31:12.571167Z",
     "iopub.status.busy": "2021-04-04T16:31:12.571078Z",
     "iopub.status.idle": "2021-04-04T16:31:12.573856Z",
     "shell.execute_reply": "2021-04-04T16:31:12.573528Z",
     "shell.execute_reply.started": "2021-04-04T16:31:12.571155Z"
    }
   },
   "outputs": [
    {
     "data": {
      "text/plain": [
       "array([ True])"
      ]
     },
     "execution_count": 32,
     "metadata": {},
     "output_type": "execute_result"
    }
   ],
   "source": [
    "sgd_clf.predict([some_digit])"
   ]
  },
  {
   "cell_type": "markdown",
   "metadata": {},
   "source": [
    "This worked correctly, although it is just one digit"
   ]
  },
  {
   "cell_type": "markdown",
   "metadata": {},
   "source": [
    "## Performance Measures"
   ]
  },
  {
   "cell_type": "markdown",
   "metadata": {},
   "source": [
    "Evaluating a classifier is often more difficult than evaluating a regressor (like we did on chapter 2).\n",
    "\n",
    "We can start evaluating the model with cross-validation"
   ]
  },
  {
   "cell_type": "markdown",
   "metadata": {},
   "source": [
    "***\n",
    "### Implementing cross-validation with more control"
   ]
  },
  {
   "cell_type": "code",
   "execution_count": 33,
   "metadata": {
    "execution": {
     "iopub.execute_input": "2021-04-04T16:31:12.574454Z",
     "iopub.status.busy": "2021-04-04T16:31:12.574373Z",
     "iopub.status.idle": "2021-04-04T16:31:35.650454Z",
     "shell.execute_reply": "2021-04-04T16:31:35.649989Z",
     "shell.execute_reply.started": "2021-04-04T16:31:12.574443Z"
    }
   },
   "outputs": [
    {
     "name": "stdout",
     "output_type": "stream",
     "text": [
      "New Fold\n",
      "Train Index:\n",
      "[    1     3     4 ... 59994 59996 59998]\n",
      "Test Index:\n",
      "[    0     2     6 ... 59995 59997 59999]\n",
      "0.9669\n",
      "\n",
      "New Fold\n",
      "Train Index:\n",
      "[    0     2     3 ... 59997 59998 59999]\n",
      "Test Index:\n",
      "[    1    10    11 ... 59988 59989 59991]\n",
      "0.91625\n",
      "\n",
      "New Fold\n",
      "Train Index:\n",
      "[    0     1     2 ... 59995 59997 59999]\n",
      "Test Index:\n",
      "[    3     4     5 ... 59994 59996 59998]\n",
      "0.96785\n",
      "\n"
     ]
    }
   ],
   "source": [
    "from sklearn.model_selection import StratifiedKFold\n",
    "from sklearn.base import clone\n",
    "\n",
    "skfolds = StratifiedKFold(n_splits=3, shuffle=True, random_state=42)\n",
    "\n",
    "for train_index, test_index in skfolds.split(X_train, y_train_5):\n",
    "    # create a clone of the classifier\n",
    "    clone_clf = clone(sgd_clf)\n",
    "    X_train_folds = X_train[train_index]\n",
    "    y_train_folds = y_train_5[train_index]\n",
    "    X_test_fold = X_train[test_index]\n",
    "    y_test_fold = y_train_5[test_index]\n",
    "\n",
    "    # Print indices of each fold to understand what is happening behind\n",
    "    print(\n",
    "        \"New Fold\",\n",
    "        \"Train Index:\",\n",
    "        train_index,\n",
    "        \"Test Index:\",\n",
    "        test_index,\n",
    "        sep=\"\\n\",\n",
    "    )\n",
    "\n",
    "    # continue with the code as in the book\n",
    "    clone_clf.fit(X_train_folds, y_train_folds)\n",
    "    y_pred = clone_clf.predict(X_test_fold)\n",
    "    n_correct = sum(y_pred == y_test_fold)\n",
    "    print(n_correct / len(y_pred), end=(\"\\n\" * 2))"
   ]
  },
  {
   "cell_type": "markdown",
   "metadata": {},
   "source": [
    "***"
   ]
  },
  {
   "cell_type": "markdown",
   "metadata": {},
   "source": [
    "Lets go back to using `cross_val_score()` included in scikit-learn"
   ]
  },
  {
   "cell_type": "code",
   "execution_count": 34,
   "metadata": {
    "execution": {
     "iopub.execute_input": "2021-04-04T16:31:35.651309Z",
     "iopub.status.busy": "2021-04-04T16:31:35.651217Z",
     "iopub.status.idle": "2021-04-04T16:31:54.257361Z",
     "shell.execute_reply": "2021-04-04T16:31:54.256849Z",
     "shell.execute_reply.started": "2021-04-04T16:31:35.651296Z"
    }
   },
   "outputs": [
    {
     "data": {
      "text/plain": [
       "array([0.95035, 0.96035, 0.9604 ])"
      ]
     },
     "execution_count": 34,
     "metadata": {},
     "output_type": "execute_result"
    }
   ],
   "source": [
    "from sklearn.model_selection import cross_val_score\n",
    "\n",
    "cross_val_score(sgd_clf, X_train, y_train_5, cv=3, scoring=\"accuracy\")"
   ]
  },
  {
   "cell_type": "markdown",
   "metadata": {},
   "source": [
    "Over 93% in each fold is pretty good, but it doesn't mean much really...\n",
    "\n",
    "To prove this, we will make a **really** dumb classifier, it will classify all images as \"not a 5\"\n",
    "\n",
    "In practice, you will have an array of predictions which are all set to `False`. The labels will match the `y_train_5` which contains an array of `False` if not a 5, `True` if a 5. The classifier will fail in all images that are 5 - classifying them as `False` when in fact they are `True`"
   ]
  },
  {
   "cell_type": "code",
   "execution_count": 35,
   "metadata": {
    "execution": {
     "iopub.execute_input": "2021-04-04T16:31:54.258193Z",
     "iopub.status.busy": "2021-04-04T16:31:54.258043Z",
     "iopub.status.idle": "2021-04-04T16:31:54.260549Z",
     "shell.execute_reply": "2021-04-04T16:31:54.260210Z",
     "shell.execute_reply.started": "2021-04-04T16:31:54.258176Z"
    }
   },
   "outputs": [],
   "source": [
    "from sklearn.base import BaseEstimator\n",
    "\n",
    "\n",
    "class Never5Classifier(BaseEstimator):\n",
    "    def fit(self, X, y=None):\n",
    "        return self\n",
    "\n",
    "    def predict(self, X):\n",
    "        return np.zeros((len(X), 1), dtype=bool)"
   ]
  },
  {
   "cell_type": "code",
   "execution_count": 36,
   "metadata": {
    "execution": {
     "iopub.execute_input": "2021-04-04T16:31:54.261432Z",
     "iopub.status.busy": "2021-04-04T16:31:54.261315Z",
     "iopub.status.idle": "2021-04-04T16:31:54.599731Z",
     "shell.execute_reply": "2021-04-04T16:31:54.599433Z",
     "shell.execute_reply.started": "2021-04-04T16:31:54.261418Z"
    }
   },
   "outputs": [
    {
     "data": {
      "text/plain": [
       "array([0.91125, 0.90855, 0.90915])"
      ]
     },
     "execution_count": 36,
     "metadata": {},
     "output_type": "execute_result"
    }
   ],
   "source": [
    "never_5_clf = Never5Classifier()\n",
    "cross_val_score(never_5_clf, X_train, y_train_5, cv=3, scoring=\"accuracy\")"
   ]
  },
  {
   "cell_type": "markdown",
   "metadata": {},
   "source": [
    "You're getting over 90% accuracy in a clearly flawed model. \n",
    "\n",
    "Only about 10% of the images are 5s, so if you always guess that an image is *not* a 5, you will be right about 90% of the time.\n",
    "\n",
    "**Important takeaway**: Accuracy is generally not the preferred performance measure for classifiers, especially when dealing with skewed datasets (some classes are more frequent than others)"
   ]
  },
  {
   "cell_type": "markdown",
   "metadata": {},
   "source": [
    "### Confusion Matrix"
   ]
  },
  {
   "cell_type": "markdown",
   "metadata": {},
   "source": [
    "Count number of instances of class A that are counted as class B\n",
    "\n",
    "We will need a set of predictions so that they can be compared to the actual targets. For this we can use the `cross_val_predict()` function\n",
    "\n",
    "Even though we will use folds, training the models 3 times (60,000 instances x 3 times), we will receive an array of m = 60,000 predictions (as if the model was trained once). This is because\n",
    "\n",
    "> The function cross_val_predict has a similar interface to cross_val_score, but returns, for each element in the input, the prediction that was obtained for that element when it was in the test set. Only cross-validation strategies that assign all elements to a test set exactly once can be used (otherwise, an exception is raised). [Source](https://scikit-learn.org/stable/modules/cross_validation.html#cross-validation)"
   ]
  },
  {
   "cell_type": "code",
   "execution_count": 37,
   "metadata": {
    "execution": {
     "iopub.execute_input": "2021-04-04T16:31:54.600464Z",
     "iopub.status.busy": "2021-04-04T16:31:54.600371Z",
     "iopub.status.idle": "2021-04-04T16:32:13.202013Z",
     "shell.execute_reply": "2021-04-04T16:32:13.201553Z",
     "shell.execute_reply.started": "2021-04-04T16:31:54.600451Z"
    }
   },
   "outputs": [],
   "source": [
    "from sklearn.model_selection import cross_val_predict\n",
    "\n",
    "y_train_pred = cross_val_predict(sgd_clf, X_train, y_train_5, cv=3)"
   ]
  },
  {
   "cell_type": "markdown",
   "metadata": {},
   "source": [
    "Now we are going to use the confusion matrix"
   ]
  },
  {
   "cell_type": "code",
   "execution_count": 38,
   "metadata": {
    "execution": {
     "iopub.execute_input": "2021-04-04T16:32:13.203408Z",
     "iopub.status.busy": "2021-04-04T16:32:13.203213Z",
     "iopub.status.idle": "2021-04-04T16:32:13.229289Z",
     "shell.execute_reply": "2021-04-04T16:32:13.228815Z",
     "shell.execute_reply.started": "2021-04-04T16:32:13.203390Z"
    }
   },
   "outputs": [
    {
     "data": {
      "text/plain": [
       "array([[53892,   687],\n",
       "       [ 1891,  3530]])"
      ]
     },
     "execution_count": 38,
     "metadata": {},
     "output_type": "execute_result"
    }
   ],
   "source": [
    "from sklearn.metrics import confusion_matrix\n",
    "\n",
    "confusion_matrix(y_train_5, y_train_pred)"
   ]
  },
  {
   "cell_type": "markdown",
   "metadata": {},
   "source": [
    "In the array above, each `row` represents an actual class, while each `column` represents a predicted class. "
   ]
  },
  {
   "cell_type": "markdown",
   "metadata": {},
   "source": [
    "There are three important metrics that we can get from the confusion matrix:\n",
    "\n",
    "1. Precision\n",
    "\n",
    "$$\\text{precision} = \\frac{\\text{TP}}{\\text{TP}+\\text{FP}}$$\n",
    "\n",
    "$\\text{TP}$ is the number of true positives, and $\\text{FP}$ is the number of false positives\n",
    "\n",
    "2. Recall\n",
    "\n",
    "$$\\text{recall} = \\frac{\\text{TP}}{\\text{TP}+\\text{FN}}$$\n",
    "\n",
    "$\\text{TP}$ is the number of true positives, and $\\text{FN}$ is the number of false negatives"
   ]
  },
  {
   "cell_type": "code",
   "execution_count": 39,
   "metadata": {
    "execution": {
     "iopub.execute_input": "2021-04-04T16:32:13.230449Z",
     "iopub.status.busy": "2021-04-04T16:32:13.230240Z",
     "iopub.status.idle": "2021-04-04T16:32:13.245417Z",
     "shell.execute_reply": "2021-04-04T16:32:13.244993Z",
     "shell.execute_reply.started": "2021-04-04T16:32:13.230436Z"
    }
   },
   "outputs": [
    {
     "data": {
      "text/plain": [
       "0.8370879772350012"
      ]
     },
     "execution_count": 39,
     "metadata": {},
     "output_type": "execute_result"
    }
   ],
   "source": [
    "from sklearn.metrics import precision_score, recall_score\n",
    "\n",
    "\n",
    "precision_score(y_train_5, y_train_pred)"
   ]
  },
  {
   "cell_type": "code",
   "execution_count": 40,
   "metadata": {
    "execution": {
     "iopub.execute_input": "2021-04-04T16:32:13.246951Z",
     "iopub.status.busy": "2021-04-04T16:32:13.246586Z",
     "iopub.status.idle": "2021-04-04T16:32:13.262593Z",
     "shell.execute_reply": "2021-04-04T16:32:13.261977Z",
     "shell.execute_reply.started": "2021-04-04T16:32:13.246929Z"
    }
   },
   "outputs": [
    {
     "data": {
      "text/plain": [
       "0.6511713705958311"
      ]
     },
     "execution_count": 40,
     "metadata": {},
     "output_type": "execute_result"
    }
   ],
   "source": [
    "recall_score(y_train_5, y_train_pred)"
   ]
  },
  {
   "cell_type": "markdown",
   "metadata": {},
   "source": [
    "It is often convenient to combine precision and recall into a single metric called $F_1 \\text{score}$. The $F_1$ score is the harmonic mean of precision and recall. The classifier will only get a high $F_1$ score if both recall and precision are high\n",
    "\n",
    "$$\n",
    "F_1 = \\frac{2}{\\frac{1}{precision}+\\frac{1}{recall}} = 2 * \\frac{\\text{precision} * \\text{recall}}{\\text{precision} + \\text{recall}} = \\frac{\\text{TP}}{TP+\\frac{\\text{FN}+\\text{FP}}{2}}\n",
    "$$"
   ]
  },
  {
   "cell_type": "code",
   "execution_count": 41,
   "metadata": {
    "execution": {
     "iopub.execute_input": "2021-04-04T16:32:13.264144Z",
     "iopub.status.busy": "2021-04-04T16:32:13.263932Z",
     "iopub.status.idle": "2021-04-04T16:32:13.280122Z",
     "shell.execute_reply": "2021-04-04T16:32:13.279325Z",
     "shell.execute_reply.started": "2021-04-04T16:32:13.264127Z"
    }
   },
   "outputs": [
    {
     "name": "stdout",
     "output_type": "stream",
     "text": [
      "F1 Score: 0.7325171197343846\n"
     ]
    }
   ],
   "source": [
    "from sklearn.metrics import f1_score\n",
    "\n",
    "print(f\"F1 Score: {f1_score(y_train_5, y_train_pred)}\")"
   ]
  },
  {
   "cell_type": "markdown",
   "metadata": {},
   "source": [
    "### Precision/Recall Trade-Off"
   ]
  },
  {
   "cell_type": "markdown",
   "metadata": {},
   "source": [
    "Classifiers like `SGDClassifier` use a threshold. Changing the value of the threshold increase recall(precision) and decreases precision(recall).\n",
    "\n",
    "You can't set a threshold in Scikit-learn to make a prediction, but you can access the decision scores that it uses to make predicitions. \n",
    "\n",
    "Using the schores, you can use any threshold to make predictions:"
   ]
  },
  {
   "cell_type": "code",
   "execution_count": 42,
   "metadata": {
    "execution": {
     "iopub.execute_input": "2021-04-04T16:32:13.282036Z",
     "iopub.status.busy": "2021-04-04T16:32:13.281819Z",
     "iopub.status.idle": "2021-04-04T16:32:13.285741Z",
     "shell.execute_reply": "2021-04-04T16:32:13.285192Z",
     "shell.execute_reply.started": "2021-04-04T16:32:13.282019Z"
    }
   },
   "outputs": [
    {
     "data": {
      "text/plain": [
       "array([2164.22030239])"
      ]
     },
     "execution_count": 42,
     "metadata": {},
     "output_type": "execute_result"
    }
   ],
   "source": [
    "y_scores = sgd_clf.decision_function([some_digit])\n",
    "y_scores"
   ]
  },
  {
   "cell_type": "code",
   "execution_count": 43,
   "metadata": {
    "execution": {
     "iopub.execute_input": "2021-04-04T16:32:13.286627Z",
     "iopub.status.busy": "2021-04-04T16:32:13.286528Z",
     "iopub.status.idle": "2021-04-04T16:32:13.289702Z",
     "shell.execute_reply": "2021-04-04T16:32:13.289153Z",
     "shell.execute_reply.started": "2021-04-04T16:32:13.286614Z"
    }
   },
   "outputs": [
    {
     "data": {
      "text/plain": [
       "array([ True])"
      ]
     },
     "execution_count": 43,
     "metadata": {},
     "output_type": "execute_result"
    }
   ],
   "source": [
    "threshold = 0\n",
    "y_some_digit_pred = y_scores > threshold\n",
    "y_some_digit_pred"
   ]
  },
  {
   "cell_type": "code",
   "execution_count": 44,
   "metadata": {
    "execution": {
     "iopub.execute_input": "2021-04-04T16:32:13.295363Z",
     "iopub.status.busy": "2021-04-04T16:32:13.295180Z",
     "iopub.status.idle": "2021-04-04T16:32:13.298471Z",
     "shell.execute_reply": "2021-04-04T16:32:13.298113Z",
     "shell.execute_reply.started": "2021-04-04T16:32:13.295348Z"
    }
   },
   "outputs": [
    {
     "data": {
      "text/plain": [
       "array([False])"
      ]
     },
     "execution_count": 44,
     "metadata": {},
     "output_type": "execute_result"
    }
   ],
   "source": [
    "# if set threshold to 8,000\n",
    "threshold = 8000\n",
    "y_some_digit_pred = y_scores > threshold\n",
    "y_some_digit_pred"
   ]
  },
  {
   "cell_type": "markdown",
   "metadata": {},
   "source": [
    "To decide which threshold to use, we can use `cross_val_predoct()` to get the scores of al linstances in the training set, but this time sprecify that we want the decision scores"
   ]
  },
  {
   "cell_type": "code",
   "execution_count": 45,
   "metadata": {
    "execution": {
     "iopub.execute_input": "2021-04-04T16:32:13.300579Z",
     "iopub.status.busy": "2021-04-04T16:32:13.300475Z",
     "iopub.status.idle": "2021-04-04T16:32:31.880082Z",
     "shell.execute_reply": "2021-04-04T16:32:31.879446Z",
     "shell.execute_reply.started": "2021-04-04T16:32:13.300566Z"
    }
   },
   "outputs": [],
   "source": [
    "y_scores = cross_val_predict(\n",
    "    sgd_clf, X_train, y_train_5, cv=3, method=\"decision_function\"\n",
    ")"
   ]
  },
  {
   "cell_type": "code",
   "execution_count": 46,
   "metadata": {
    "execution": {
     "iopub.execute_input": "2021-04-04T16:32:31.881101Z",
     "iopub.status.busy": "2021-04-04T16:32:31.881002Z",
     "iopub.status.idle": "2021-04-04T16:32:32.011162Z",
     "shell.execute_reply": "2021-04-04T16:32:32.010831Z",
     "shell.execute_reply.started": "2021-04-04T16:32:31.881089Z"
    }
   },
   "outputs": [
    {
     "data": {
      "image/png": "[encoded data removed]",
      "text/plain": [
       "<Figure size 576x288 with 1 Axes>"
      ]
     },
     "metadata": {
      "needs_background": "light"
     },
     "output_type": "display_data"
    }
   ],
   "source": [
    "from sklearn.metrics import precision_recall_curve\n",
    "\n",
    "precisions, recalls, thresholds = precision_recall_curve(y_train_5, y_scores)\n",
    "\n",
    "\n",
    "def plot_precision_recall_vs_threshold(precisions, recalls, thresholds):\n",
    "    plt.plot(thresholds, precisions[:-1], \"b--\", label=\"Precision\")\n",
    "    plt.plot(thresholds, recalls[:-1], \"g-\", label=\"recall\")\n",
    "    plt.legend(loc=\"center right\", fontsize=16)  # Not shown in the book\n",
    "    plt.xlabel(\"Threshold\", fontsize=16)         # Not shown\n",
    "    plt.grid(True)                               # Not shown\n",
    "    plt.axis([-50000, 50000, 0, 1])              # Not shown\n",
    "\n",
    "\n",
    "recall_90_precision = recalls[np.argmax(precisions >= 0.90)]\n",
    "threshold_90_precision = thresholds[np.argmax(precisions >= 0.90)]\n",
    "\n",
    "\n",
    "plt.figure(figsize=(8, 4))                                                                    # Not shown\n",
    "plot_precision_recall_vs_threshold(precisions, recalls, thresholds)\n",
    "plt.plot([threshold_90_precision, threshold_90_precision], [0., 0.9], \"r:\")                   # Not shown\n",
    "plt.plot([-50000, threshold_90_precision], [0.9, 0.9], \"r:\")                                  # Not shown\n",
    "plt.plot([-50000, threshold_90_precision], [recall_90_precision, recall_90_precision], \"r:\")  # Not shown\n",
    "plt.plot([threshold_90_precision], [0.9], \"ro\")                                               # Not shown\n",
    "plt.plot([threshold_90_precision], [recall_90_precision], \"ro\")                               # Not shown\n",
    "plt.show()"
   ]
  },
  {
   "cell_type": "markdown",
   "metadata": {},
   "source": [
    "### The ROC Curve"
   ]
  },
  {
   "cell_type": "markdown",
   "metadata": {},
   "source": [
    "Similar to the precision/recall curve, but instead of plotting precision vs. recall, the ROC curve plots the True Positive Rate (i.e. Recall) against the _false positive rate_"
   ]
  },
  {
   "cell_type": "code",
   "execution_count": 47,
   "metadata": {
    "execution": {
     "iopub.execute_input": "2021-04-04T16:32:32.011961Z",
     "iopub.status.busy": "2021-04-04T16:32:32.011839Z",
     "iopub.status.idle": "2021-04-04T16:32:32.093061Z",
     "shell.execute_reply": "2021-04-04T16:32:32.092762Z",
     "shell.execute_reply.started": "2021-04-04T16:32:32.011947Z"
    }
   },
   "outputs": [
    {
     "data": {
      "image/png": "[encoded data removed]",
      "text/plain": [
       "<Figure size 432x288 with 1 Axes>"
      ]
     },
     "metadata": {
      "needs_background": "light"
     },
     "output_type": "display_data"
    }
   ],
   "source": [
    "from sklearn.metrics import roc_curve\n",
    "\n",
    "fpr, tpr, thresholds = roc_curve(y_train_5, y_scores)\n",
    "\n",
    "\n",
    "def plot_roc_curve(fpr, tpr, label=None):\n",
    "    plt.plot(fpr, tpr, linewidth=2, label=label)\n",
    "    plt.plot([0, 1], [0, 1], 'k--')\n",
    "\n",
    "\n",
    "plot_roc_curve(fpr, tpr)\n",
    "plt.show()"
   ]
  },
  {
   "cell_type": "markdown",
   "metadata": {},
   "source": [
    "As a rule of thumb, you should prefer the PR curve whenever the positive class is rare or when you care more about the false positives than the false negatives. Otherwise, use the ROC curve"
   ]
  },
  {
   "cell_type": "markdown",
   "metadata": {},
   "source": [
    "## Multiclass Classification"
   ]
  },
  {
   "cell_type": "markdown",
   "metadata": {},
   "source": [
    "Multiclass classifiers can distinguish between more than two classes, in contrast with binary classifiers with can only distinguis 2 classes."
   ]
  },
  {
   "cell_type": "markdown",
   "metadata": {},
   "source": [
    "One way to create a system that can classify 10 classes is to train 10 binary classifiers, one for each digit. Then when we want to classify an image, you get the decision score from each classifier for the image and you select the class whose classifier outputs the highest score. This is called **one-versus-the-rest** strategy\n",
    "\n",
    "Another strategy is to train a binary classifier for every pair of digits. 0-1, 0-2, 1-2, etc...If there are $N$ classes, you need to train $\\frac{N*(N-1)}{2}$ classifiers.When you want to classify an image, you have to run the image through all the classifiers and see which class wins the most duels. This is called a **one-versus-one** strategy.The main advantage of OvO is that each classifier only needs to be trained on the part of the training set for the two classes that it must distinguish."
   ]
  },
  {
   "cell_type": "markdown",
   "metadata": {},
   "source": [
    "Scikit-Learn detects when you try to use a binary classification algorithm for a multi-class classification task, and it automatically runs OvR or OvO, depending on the algorithm. "
   ]
  },
  {
   "cell_type": "code",
   "execution_count": 48,
   "metadata": {
    "execution": {
     "iopub.execute_input": "2021-04-04T16:32:32.093812Z",
     "iopub.status.busy": "2021-04-04T16:32:32.093701Z",
     "iopub.status.idle": "2021-04-04T16:35:42.686958Z",
     "shell.execute_reply": "2021-04-04T16:35:42.686640Z",
     "shell.execute_reply.started": "2021-04-04T16:32:32.093799Z"
    }
   },
   "outputs": [
    {
     "data": {
      "text/plain": [
       "array([5], dtype=uint8)"
      ]
     },
     "execution_count": 48,
     "metadata": {},
     "output_type": "execute_result"
    }
   ],
   "source": [
    "# Train a multiclass classification using a Support Vector Machine\n",
    "\n",
    "from sklearn.svm import SVC\n",
    "\n",
    "svm_clf = SVC()\n",
    "svm_clf.fit(X_train, y_train)\n",
    "svm_clf.predict([some_digit])"
   ]
  },
  {
   "cell_type": "markdown",
   "metadata": {},
   "source": [
    "If you call the `decision_function()` method, you will see that it returns 10 scores per instance. That's one score per class:"
   ]
  },
  {
   "cell_type": "code",
   "execution_count": 49,
   "metadata": {
    "execution": {
     "iopub.execute_input": "2021-04-04T16:35:42.687707Z",
     "iopub.status.busy": "2021-04-04T16:35:42.687601Z",
     "iopub.status.idle": "2021-04-04T16:35:42.695587Z",
     "shell.execute_reply": "2021-04-04T16:35:42.695288Z",
     "shell.execute_reply.started": "2021-04-04T16:35:42.687690Z"
    }
   },
   "outputs": [
    {
     "data": {
      "text/plain": [
       "array([[ 1.72501977,  2.72809088,  7.2510018 ,  8.3076379 , -0.31087254,\n",
       "         9.3132482 ,  1.70975103,  2.76765202,  6.23049537,  4.84771048]])"
      ]
     },
     "execution_count": 49,
     "metadata": {},
     "output_type": "execute_result"
    }
   ],
   "source": [
    "some_digit_scores = svm_clf.decision_function([some_digit])\n",
    "some_digit_scores"
   ]
  },
  {
   "cell_type": "code",
   "execution_count": 50,
   "metadata": {
    "execution": {
     "iopub.execute_input": "2021-04-04T16:35:42.696258Z",
     "iopub.status.busy": "2021-04-04T16:35:42.696167Z",
     "iopub.status.idle": "2021-04-04T16:35:42.698591Z",
     "shell.execute_reply": "2021-04-04T16:35:42.698309Z",
     "shell.execute_reply.started": "2021-04-04T16:35:42.696246Z"
    }
   },
   "outputs": [
    {
     "name": "stdout",
     "output_type": "stream",
     "text": [
      "5\n",
      "[0 1 2 3 4 5 6 7 8 9]\n",
      "5\n"
     ]
    }
   ],
   "source": [
    "print(np.argmax(some_digit_scores),\n",
    "      svm_clf.classes_,\n",
    "      svm_clf.classes_[5],\n",
    "      sep=\"\\n\"\n",
    "     )"
   ]
  },
  {
   "cell_type": "markdown",
   "metadata": {},
   "source": [
    "We can force scikit-learn to use one-versus-one or one-vesus-the-rest, by passing `OneVsOneClassifier` or `OneVsRestClassifier`. Simply create an instance and pass a classifier to its constructor."
   ]
  },
  {
   "cell_type": "code",
   "execution_count": 51,
   "metadata": {
    "execution": {
     "iopub.execute_input": "2021-04-04T16:35:42.699218Z",
     "iopub.status.busy": "2021-04-04T16:35:42.699131Z",
     "iopub.status.idle": "2021-04-04T16:48:50.854756Z",
     "shell.execute_reply": "2021-04-04T16:48:50.854306Z",
     "shell.execute_reply.started": "2021-04-04T16:35:42.699206Z"
    }
   },
   "outputs": [
    {
     "data": {
      "text/plain": [
       "array([5], dtype=uint8)"
      ]
     },
     "execution_count": 51,
     "metadata": {},
     "output_type": "execute_result"
    }
   ],
   "source": [
    "from sklearn.multiclass import OneVsRestClassifier\n",
    "\n",
    "ovr_clf = OneVsRestClassifier(SVC())\n",
    "ovr_clf.fit(X_train, y_train)\n",
    "ovr_clf.predict([some_digit])"
   ]
  },
  {
   "cell_type": "markdown",
   "metadata": {},
   "source": [
    "We can train an `SGDClassifier` easily as well. In facto, SGD classifiers can directly classify instances into multiple classes, without needing to run OvR or OvO"
   ]
  },
  {
   "cell_type": "code",
   "execution_count": 52,
   "metadata": {
    "execution": {
     "iopub.execute_input": "2021-04-04T16:48:50.856655Z",
     "iopub.status.busy": "2021-04-04T16:48:50.856545Z",
     "iopub.status.idle": "2021-04-04T16:50:47.805699Z",
     "shell.execute_reply": "2021-04-04T16:50:47.805326Z",
     "shell.execute_reply.started": "2021-04-04T16:48:50.856637Z"
    }
   },
   "outputs": [
    {
     "data": {
      "text/plain": [
       "array([3], dtype=uint8)"
      ]
     },
     "execution_count": 52,
     "metadata": {},
     "output_type": "execute_result"
    }
   ],
   "source": [
    "sgd_clf.fit(X_train, y_train)\n",
    "sgd_clf.predict([some_digit])"
   ]
  },
  {
   "cell_type": "markdown",
   "metadata": {},
   "source": [
    "This was predicted as a 3...In the book it shows it should be predicted correctly as a 5, but if we go to the jupyter notebook source it is also being predicted as a 3. [Source](https://github.com/ageron/handson-ml2/blob/master/03_classification.ipynb)\n",
    "\n",
    "This is because we are using version `0.24.1` instead of version `0.20.0`"
   ]
  },
  {
   "cell_type": "code",
   "execution_count": 53,
   "metadata": {
    "execution": {
     "iopub.execute_input": "2021-04-04T16:50:47.806420Z",
     "iopub.status.busy": "2021-04-04T16:50:47.806323Z",
     "iopub.status.idle": "2021-04-04T16:50:47.808985Z",
     "shell.execute_reply": "2021-04-04T16:50:47.808606Z",
     "shell.execute_reply.started": "2021-04-04T16:50:47.806407Z"
    }
   },
   "outputs": [
    {
     "data": {
      "text/plain": [
       "'0.24.1'"
      ]
     },
     "execution_count": 53,
     "metadata": {},
     "output_type": "execute_result"
    }
   ],
   "source": [
    "sklearn.__version__"
   ]
  },
  {
   "cell_type": "markdown",
   "metadata": {},
   "source": [
    "Now we evaluate `SGDClassifier` accuracy"
   ]
  },
  {
   "cell_type": "code",
   "execution_count": 54,
   "metadata": {
    "execution": {
     "iopub.execute_input": "2021-04-04T16:50:47.809613Z",
     "iopub.status.busy": "2021-04-04T16:50:47.809530Z",
     "iopub.status.idle": "2021-04-04T16:54:00.936827Z",
     "shell.execute_reply": "2021-04-04T16:54:00.936347Z",
     "shell.execute_reply.started": "2021-04-04T16:50:47.809602Z"
    }
   },
   "outputs": [
    {
     "data": {
      "text/plain": [
       "array([0.87365, 0.85835, 0.8689 ])"
      ]
     },
     "execution_count": 54,
     "metadata": {},
     "output_type": "execute_result"
    }
   ],
   "source": [
    "cross_val_score(sgd_clf, X_train, y_train, cv=3, scoring=\"accuracy\")"
   ]
  },
  {
   "cell_type": "markdown",
   "metadata": {},
   "source": [
    "Not bad, but we can do better by scaling the inputs"
   ]
  },
  {
   "cell_type": "code",
   "execution_count": 55,
   "metadata": {
    "execution": {
     "iopub.execute_input": "2021-04-04T16:54:00.937786Z",
     "iopub.status.busy": "2021-04-04T16:54:00.937665Z",
     "iopub.status.idle": "2021-04-04T17:02:43.485418Z",
     "shell.execute_reply": "2021-04-04T17:02:43.484868Z",
     "shell.execute_reply.started": "2021-04-04T16:54:00.937771Z"
    }
   },
   "outputs": [
    {
     "data": {
      "text/plain": [
       "array([0.8983, 0.891 , 0.9018])"
      ]
     },
     "execution_count": 55,
     "metadata": {},
     "output_type": "execute_result"
    }
   ],
   "source": [
    "from sklearn.preprocessing import StandardScaler\n",
    "\n",
    "scaler = StandardScaler()\n",
    "X_train_scaled = scaler.fit_transform(X_train.astype(np.float64))\n",
    "cross_val_score(sgd_clf, X_train_scaled, y_train, cv=3, scoring=\"accuracy\")"
   ]
  },
  {
   "cell_type": "markdown",
   "metadata": {},
   "source": [
    "## Error Analysis"
   ]
  },
  {
   "cell_type": "markdown",
   "metadata": {},
   "source": [
    "Now we look at the type of errors the model is making"
   ]
  },
  {
   "cell_type": "code",
   "execution_count": 56,
   "metadata": {
    "execution": {
     "iopub.execute_input": "2021-04-04T17:02:43.486793Z",
     "iopub.status.busy": "2021-04-04T17:02:43.486679Z",
     "iopub.status.idle": "2021-04-04T17:11:27.271656Z",
     "shell.execute_reply": "2021-04-04T17:11:27.271107Z",
     "shell.execute_reply.started": "2021-04-04T17:02:43.486774Z"
    }
   },
   "outputs": [
    {
     "data": {
      "text/plain": [
       "array([[5577,    0,   22,    5,    8,   43,   36,    6,  225,    1],\n",
       "       [   0, 6400,   37,   24,    4,   44,    4,    7,  212,   10],\n",
       "       [  27,   27, 5220,   92,   73,   27,   67,   36,  378,   11],\n",
       "       [  22,   17,  117, 5227,    2,  203,   27,   40,  403,   73],\n",
       "       [  12,   14,   41,    9, 5182,   12,   34,   27,  347,  164],\n",
       "       [  27,   15,   30,  168,   53, 4444,   75,   14,  535,   60],\n",
       "       [  30,   15,   42,    3,   44,   97, 5552,    3,  131,    1],\n",
       "       [  21,   10,   51,   30,   49,   12,    3, 5684,  195,  210],\n",
       "       [  17,   63,   48,   86,    3,  126,   25,   10, 5429,   44],\n",
       "       [  25,   18,   30,   64,  118,   36,    1,  179,  371, 5107]])"
      ]
     },
     "execution_count": 56,
     "metadata": {},
     "output_type": "execute_result"
    }
   ],
   "source": [
    "y_train_pred = cross_val_predict(sgd_clf, X_train_scaled, y_train, cv=3)\n",
    "conf_mx = confusion_matrix(y_train, y_train_pred)\n",
    "conf_mx"
   ]
  },
  {
   "cell_type": "markdown",
   "metadata": {},
   "source": [
    "Let's look at an image representation of the confusion matrix, using mpl's `matshow()`"
   ]
  },
  {
   "cell_type": "code",
   "execution_count": 57,
   "metadata": {
    "execution": {
     "iopub.execute_input": "2021-04-04T17:11:27.272865Z",
     "iopub.status.busy": "2021-04-04T17:11:27.272710Z",
     "iopub.status.idle": "2021-04-04T17:11:27.389459Z",
     "shell.execute_reply": "2021-04-04T17:11:27.388970Z",
     "shell.execute_reply.started": "2021-04-04T17:11:27.272851Z"
    }
   },
   "outputs": [
    {
     "data": {
      "image/png": "[encoded data removed]",
      "text/plain": [
       "<Figure size 288x288 with 1 Axes>"
      ]
     },
     "metadata": {
      "needs_background": "light"
     },
     "output_type": "display_data"
    }
   ],
   "source": [
    "plt.matshow(conf_mx, cmap=plt.cm.gray)\n",
    "plt.show()"
   ]
  },
  {
   "cell_type": "markdown",
   "metadata": {},
   "source": [
    "The diagonal shows us that most of the images are being classified correctly. \n",
    "\n",
    "Let's focus on the errors by first calculating the error rates (as %) and then plotting the matrix"
   ]
  },
  {
   "cell_type": "code",
   "execution_count": 61,
   "metadata": {
    "execution": {
     "iopub.execute_input": "2021-04-04T17:12:49.531260Z",
     "iopub.status.busy": "2021-04-04T17:12:49.531177Z",
     "iopub.status.idle": "2021-04-04T17:12:49.617533Z",
     "shell.execute_reply": "2021-04-04T17:12:49.617219Z",
     "shell.execute_reply.started": "2021-04-04T17:12:49.531248Z"
    }
   },
   "outputs": [
    {
     "data": {
      "image/png": "[encoded data removed]",
      "text/plain": [
       "<Figure size 288x288 with 1 Axes>"
      ]
     },
     "metadata": {
      "needs_background": "light"
     },
     "output_type": "display_data"
    }
   ],
   "source": [
    "row_sums = conf_mx.sum(axis=1, keepdims=True)\n",
    "norm_conf_mx = conf_mx / row_sums\n",
    "\n",
    "# fill the diagonals with zeros to keep only the errors, and plot the results\n",
    "np.fill_diagonal(norm_conf_mx, 0)\n",
    "plt.matshow(norm_conf_mx, cmap=plt.cm.gray) \n",
    "plt.show()"
   ]
  },
  {
   "cell_type": "markdown",
   "metadata": {},
   "source": [
    "The column for class 8 is quite bright, which tells you that many images get misclassified as 8s. However, the row for class 8 is not that bad, telling you that actual 8s in general get properly classified as 8s. As you can see, the confusion matrix is not necessarily symmetrical."
   ]
  },
  {
   "cell_type": "markdown",
   "metadata": {},
   "source": [
    "## Multilabel Classification"
   ]
  },
  {
   "cell_type": "markdown",
   "metadata": {},
   "source": [
    "In some cases you want to get multiple classes for a single instance. "
   ]
  },
  {
   "cell_type": "code",
   "execution_count": 59,
   "metadata": {
    "execution": {
     "iopub.execute_input": "2021-04-04T17:11:27.394242Z",
     "iopub.status.busy": "2021-04-04T17:11:27.394154Z",
     "iopub.status.idle": "2021-04-04T17:11:27.605651Z",
     "shell.execute_reply": "2021-04-04T17:11:27.605301Z",
     "shell.execute_reply.started": "2021-04-04T17:11:27.394230Z"
    }
   },
   "outputs": [
    {
     "data": {
      "text/plain": [
       "array([[False,  True]])"
      ]
     },
     "execution_count": 59,
     "metadata": {},
     "output_type": "execute_result"
    }
   ],
   "source": [
    "from sklearn.neighbors import KNeighborsClassifier\n",
    "\n",
    "y_train_large = (y_train >= 7)\n",
    "y_train_odd = (y_train % 2 == 1)\n",
    "y_multilabel = np.c_[y_train_large, y_train_odd]\n",
    "\n",
    "knn_clf = KNeighborsClassifier()\n",
    "knn_clf.fit(X_train, y_multilabel)\n",
    "\n",
    "knn_clf.predict([some_digit])"
   ]
  },
  {
   "cell_type": "code",
   "execution_count": 60,
   "metadata": {
    "execution": {
     "iopub.execute_input": "2021-04-04T17:11:27.606449Z",
     "iopub.status.busy": "2021-04-04T17:11:27.606355Z",
     "iopub.status.idle": "2021-04-04T17:12:49.525987Z",
     "shell.execute_reply": "2021-04-04T17:12:49.525650Z",
     "shell.execute_reply.started": "2021-04-04T17:11:27.606436Z"
    }
   },
   "outputs": [
    {
     "data": {
      "text/plain": [
       "0.976410265560605"
      ]
     },
     "execution_count": 60,
     "metadata": {},
     "output_type": "execute_result"
    }
   ],
   "source": [
    "y_train_knn_pred = cross_val_predict(knn_clf, X_train, y_multilabel, cv=3)\n",
    "\n",
    "f1_score(y_multilabel, y_train_knn_pred, average=\"macro\")"
   ]
  }
 ],
 "metadata": {
  "kernelspec": {
   "display_name": "Python 3",
   "language": "python",
   "name": "python3"
  },
  "language_info": {
   "codemirror_mode": {
    "name": "ipython",
    "version": 3
   },
   "file_extension": ".py",
   "mimetype": "text/x-python",
   "name": "python",
   "nbconvert_exporter": "python",
   "pygments_lexer": "ipython3",
   "version": "3.8.8"
  },
  "toc-autonumbering": true
 },
 "nbformat": 4,
 "nbformat_minor": 4
}
